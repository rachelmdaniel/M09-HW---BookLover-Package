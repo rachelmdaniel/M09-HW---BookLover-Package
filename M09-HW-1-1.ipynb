{
 "cells": [
  {
   "cell_type": "markdown",
   "metadata": {},
   "source": [
    "# Metadata\n",
    "\n",
    "```yaml\n",
    "Course:  DS 5100\n",
    "Module:  09 Python Packages\n",
    "Topic:   HW Package Booklover\n",
    "Author:  R.C. Alvarado (adapted)\n",
    "Date:    7 July 2023 (revised)\n",
    "```"
   ]
  },
  {
   "cell_type": "markdown",
   "metadata": {},
   "source": [
    "# Student Info\n",
    "\n",
    "* Name:  Rachel Daniel\n",
    "* Net ID: rmd9ev\n",
    "* URL of this file in GitHub:"
   ]
  },
  {
   "cell_type": "markdown",
   "metadata": {},
   "source": [
    "# Instructions\n",
    "\n",
    "In your **private course repo on Rivanna**, use this Jupyter notebook and the data file described to write code that performs the tasks below. \n",
    "\n",
    "Save your notebook in the `M09` directory.\n",
    "\n",
    "Remember to add and commit these files to your repo. \n",
    "\n",
    "Then push your commits to your repo on GitHib.\n",
    "\n",
    "Be sure to fill out the **Student Info** block above.\n",
    "\n",
    "To submit your homework, save your results as a PDF and upload it to GradeScope. More information about how to create the PDF for this assignment are included at the end of this document.\n",
    "\n",
    "**TOTAL POINTS: 8**"
   ]
  },
  {
   "cell_type": "markdown",
   "metadata": {},
   "source": [
    "# Overview\n",
    "\n",
    "Follow the following recipe we used in class to package the code you wrote for `HW08` -- `booklover.py` and `booklover_test.py`.\n",
    "\n",
    "* Create a new git repo for your package.\n",
    "* Create and edit the required files and directories for your package and move the booklover modules there.\n",
    "* Stage, commit, and push all the files you've created.\n",
    "* Install your package with pip.\n",
    "* Outside of your package dir, write a script to test your method.\n",
    "\n",
    "Put this notebook in your repo. This will allow you to execute bash commands and capture the outpunt directly in the notebook.\n",
    "\n",
    "**TOTAL: 8 POINTS**"
   ]
  },
  {
   "cell_type": "markdown",
   "metadata": {
    "tags": []
   },
   "source": [
    "# Tasks"
   ]
  },
  {
   "cell_type": "markdown",
   "metadata": {},
   "source": [
    "## Task 1\n",
    "\n",
    "(5 points)\n",
    "\n",
    "Show the directory structure of your repo by running this command from the root of your repo:"
   ]
  },
  {
   "cell_type": "code",
   "execution_count": 28,
   "metadata": {},
   "outputs": [
    {
     "name": "stdout",
     "output_type": "stream",
     "text": [
      "/sfs/qumulo/qhome/rmd9ev/Documents/MSDS/DS5100/M09HW_BookLoverPackage\n"
     ]
    }
   ],
   "source": [
    "cd /sfs/qumulo/qhome/rmd9ev/Documents/MSDS/DS5100/M09HW_BookLoverPackage"
   ]
  },
  {
   "cell_type": "code",
   "execution_count": 29,
   "metadata": {},
   "outputs": [
    {
     "name": "stdout",
     "output_type": "stream",
     "text": [
      ".:\n",
      "total 32\n",
      "drwxr-sr-x 4 rmd9ev users 2560 Oct 29 12:38 BookLoverPackage\n",
      "-rw-r--r-- 1 rmd9ev users 1070 Oct 26 20:41 LICENSE\n",
      "-rw-r--r-- 1 rmd9ev users 8438 Oct 29 13:34 M09-HW-1-1.ipynb\n",
      "-rw-r--r-- 1 rmd9ev users   28 Oct 26 20:41 README.md\n",
      "-rw-r--r-- 1 rmd9ev users  310 Oct 29 11:23 setup.py\n",
      "\n",
      "./BookLoverPackage:\n",
      "total 20\n",
      "-rw-r--r-- 1 rmd9ev users 1158 Oct 26 20:47 booklover.py\n",
      "-rw-r--r-- 1 rmd9ev users 1784 Oct 26 20:50 booklover_test.py\n",
      "-rw-r--r-- 1 rmd9ev users   42 Oct 26 20:51 __init__.py\n",
      "drwxr-sr-x 2 rmd9ev users 1536 Oct 29 12:44 __pycache__\n",
      "\n",
      "./BookLoverPackage/__pycache__:\n",
      "total 20\n",
      "-rw-r--r-- 1 rmd9ev users 1550 Oct 29 12:41 booklover.cpython-38.pyc\n",
      "-rw-r--r-- 1 rmd9ev users 2480 Oct 29 12:44 booklover_test.cpython-38.pyc\n",
      "-rw-r--r-- 1 rmd9ev users  236 Oct 29 12:38 __init__.cpython-38.pyc\n"
     ]
    }
   ],
   "source": [
    "#Executed again after install had been done (reason for pycache files)\n",
    "!ls -lR"
   ]
  },
  {
   "cell_type": "markdown",
   "metadata": {},
   "source": [
    "## Task 2\n",
    "\n",
    "(1 point)\n",
    "\n",
    "Put the URL of your GitHub repo here. Just paste it into a Markdown cell."
   ]
  },
  {
   "cell_type": "markdown",
   "metadata": {},
   "source": [
    "URL: https://github.com/rachelmdaniel/M09HW_BookLoverPackage/tree/main"
   ]
  },
  {
   "cell_type": "markdown",
   "metadata": {
    "lines_to_next_cell": 0
   },
   "source": [
    "## Task 3\n",
    "\n",
    "(1 point)\n",
    "\n",
    "Show the results of installing your package.\n",
    "\n",
    "```bash\n",
    "!pip install -e .\n",
    "```"
   ]
  },
  {
   "cell_type": "code",
   "execution_count": 32,
   "metadata": {},
   "outputs": [
    {
     "name": "stdout",
     "output_type": "stream",
     "text": [
      "Defaulting to user installation because normal site-packages is not writeable\n",
      "Obtaining file:///sfs/qumulo/qhome/rmd9ev/Documents/MSDS/DS5100/M09HW_BookLoverPackage\n",
      "Installing collected packages: BookLoverPackage\n",
      "  Running setup.py develop for BookLoverPackage\n",
      "Successfully installed BookLoverPackage\n"
     ]
    }
   ],
   "source": [
    "!pip install -e ."
   ]
  },
  {
   "cell_type": "markdown",
   "metadata": {},
   "source": [
    "## Task 4\n",
    "\n",
    "(1 point)\n",
    "\n",
    "Create a file outside your repo to test your package by running it.\n",
    "\n",
    "To do this, import the package into your file and create a BookLover object.\n",
    "\n",
    "Then add a book and then print number books read.\n",
    "\n",
    "Then run the file. \n",
    "\n",
    "Show the output of running the file below, using a command like the following:\n",
    "\n",
    "```bash\n",
    "!python ../book_lover_demo.py\n",
    "```"
   ]
  },
  {
   "cell_type": "code",
   "execution_count": 35,
   "metadata": {},
   "outputs": [
    {
     "name": "stdout",
     "output_type": "stream",
     "text": [
      "/sfs/qumulo/qhome/rmd9ev/Documents/MSDS/DS5100/DS5100-rmd9ev/lessons/M09\n"
     ]
    }
   ],
   "source": [
    "#going to directory outside of repo where file is located\n",
    "cd /sfs/qumulo/qhome/rmd9ev/Documents/MSDS/DS5100/DS5100-rmd9ev/lessons/M09"
   ]
  },
  {
   "cell_type": "code",
   "execution_count": 36,
   "metadata": {},
   "outputs": [
    {
     "name": "stdout",
     "output_type": "stream",
     "text": [
      "/sfs/qumulo/qhome/rmd9ev/Documents/MSDS/DS5100/DS5100-rmd9ev/lessons/M09\n"
     ]
    }
   ],
   "source": [
    "!pwd"
   ]
  },
  {
   "cell_type": "code",
   "execution_count": 37,
   "metadata": {},
   "outputs": [
    {
     "name": "stdout",
     "output_type": "stream",
     "text": [
      "Welcome to the Booklover Package!\n",
      "/sfs/qumulo/qhome/rmd9ev/Documents/MSDS/DS5100/M09HW_BookLoverPackage/BookLoverPackage/booklover.py:11: FutureWarning: elementwise comparison failed; returning scalar instead, but in the future will perform elementwise comparison\n",
      "  if book_name in self.book_list['book_name'].values:\n",
      "1\n"
     ]
    }
   ],
   "source": [
    "!python booklover_demo.py"
   ]
  },
  {
   "cell_type": "code",
   "execution_count": null,
   "metadata": {},
   "outputs": [],
   "source": []
  }
 ],
 "metadata": {
  "jupytext": {
   "cell_metadata_filter": "-all",
   "main_language": "bash",
   "notebook_metadata_filter": "-all"
  },
  "kernelspec": {
   "display_name": "Python 3",
   "language": "python",
   "name": "python3"
  },
  "language_info": {
   "codemirror_mode": {
    "name": "ipython",
    "version": 3
   },
   "file_extension": ".py",
   "mimetype": "text/x-python",
   "name": "python",
   "nbconvert_exporter": "python",
   "pygments_lexer": "ipython3",
   "version": "3.8.8"
  },
  "vscode": {
   "interpreter": {
    "hash": "c3b963de08c47c3b6758389c5e0978ad73698a111eb508d4e16b558edb8f4cbf"
   }
  },
  "widgets": {
   "application/vnd.jupyter.widget-state+json": {
    "state": {},
    "version_major": 2,
    "version_minor": 0
   }
  }
 },
 "nbformat": 4,
 "nbformat_minor": 5
}
